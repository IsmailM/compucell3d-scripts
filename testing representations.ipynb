{
 "metadata": {
  "name": "testing representations"
 },
 "nbformat": 3,
 "nbformat_minor": 0,
 "worksheets": [
  {
   "cells": [
    {
     "cell_type": "code",
     "collapsed": false,
     "input": [
      "from Bio import Phylo"
     ],
     "language": "python",
     "metadata": {},
     "outputs": [],
     "prompt_number": 10
    },
    {
     "cell_type": "code",
     "collapsed": false,
     "input": [
      "tree = Phylo.read('./datafiles/may_26.newick', 'newick')\n",
      "Phylo.draw(tree)"
     ],
     "language": "python",
     "metadata": {},
     "outputs": [],
     "prompt_number": 15
    },
    {
     "cell_type": "code",
     "collapsed": false,
     "input": [
      "from StringIO import StringIO"
     ],
     "language": "python",
     "metadata": {},
     "outputs": [],
     "prompt_number": 16
    },
    {
     "cell_type": "code",
     "collapsed": false,
     "input": [
      "tree1 = Phylo.read(StringIO('((((19,8),18),17),(1,16),((((21,10),20),13),7));'), 'newick')\n",
      "Phylo.draw(tree1)"
     ],
     "language": "python",
     "metadata": {},
     "outputs": [],
     "prompt_number": 24
    },
    {
     "cell_type": "code",
     "collapsed": false,
     "input": [
      "tree2 = Phylo.read(StringIO('((((\"19\",\"8\"),\"18\"),\"17\"),(\"1\",\"16\"),((((\"21\",\"10\"),\"20\"),\"13\"),\"7\"));'), 'newick')\n",
      "Phylo.draw(tree2)"
     ],
     "language": "python",
     "metadata": {},
     "outputs": [],
     "prompt_number": 25
    },
    {
     "cell_type": "code",
     "collapsed": false,
     "input": [
      "tree3 = Phylo.read(StringIO('((((A,B),C),D),(E,F),((((G,H),I),J),K));'), 'newick')\n",
      "Phylo.draw(tree3)"
     ],
     "language": "python",
     "metadata": {},
     "outputs": [],
     "prompt_number": 22
    },
    {
     "cell_type": "code",
     "collapsed": false,
     "input": [],
     "language": "python",
     "metadata": {},
     "outputs": []
    }
   ],
   "metadata": {}
  }
 ]
}