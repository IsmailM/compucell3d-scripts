{
 "metadata": {
  "name": "",
  "signature": "sha256:09a66ff3f77a917f05aa959f3ba8d0abb0a5f3ebf66b5d166f63b0e817b5defa"
 },
 "nbformat": 3,
 "nbformat_minor": 0,
 "worksheets": [
  {
   "cells": [
    {
     "cell_type": "markdown",
     "metadata": {},
     "source": [
      "#Coalescent Theory and the diffusion approximation\n",
      "\n",
      "In the previous notebooks, we simulated evolution in Wright-Fisher models. We first decided how reproduction worked, then gave random genotypes to individuals at the founding generation, and let them evolve according to our chosen dyamics.  \n",
      "When that became too slow, we modelled the evolution of allele frequencies from generation to generation. This required a little bit of math to identify the proper distribution to draw from, but it was still pretty straightforward. \n",
      "\n",
      "This made things faster, but not quite fast enough to model realistic population: if you try to model a population in the thousands of individuals over thousands of generations, things will still get slow. If you want to track millions of SNPs, and perform multiple simulations, it just won't work. \n",
      "\n",
      "There are two main approaches to get around this problem. The first one is to stop considering individual SNP frequencies, and rather consider the *expected* distribution of SNP frequencies, averaged over all SNPs. Rather than follow individual stochastic trajectories, we can write an equation for the expected behaviour of their distribution.   \n",
      "\n",
      "##The diffusion approximation\n",
      "(You can just skim this section, it is not central to the notebook!)\n",
      "\n",
      "\n",
      "For example, we saw in the Wright-Fisher notebook that SNPs starting at a given frequency will tend to drift away from that frequency, so that the frequency becomes uniform across all frequencies. When we constantly added new mutations, in frequencySpectrum we found a distribution of allele frequency $\\phi(f) \\propto 1/f$. Even though individual allele trajectories follow complicated random trajectories, the shape of their distribution, averaged over all SNPs and all simulation runs is simple and reproducible.\n",
      "\n",
      "If we could write an equation describing the evolution of this distribution, we'd have solved a few problems in one go:\n",
      "\n",
      "1-We wouldn't have to run multiple simulations anymore and average over them, because we would already be working with the expectation.\n",
      "\n",
      "2-If we understood how the distribution evolves in time, we might not have to track it at each individual generation--we could take bigger time steps  \n",
      "\n",
      "3-We would have a better chance at getting analytical solutions.  \n",
      "\n",
      "\n",
      "Getting the equation is not that hard if $N$ is large. If we define $\\phi(x,t)$ as the distribution of SNPs at frequency $x$ at time $t$ generations, the evolution equation for neutral SNPs reads\n",
      "\n",
      "$$\\frac{\\partial \\phi (x,t)}{\\partial t}= \\frac{1}{N}\\frac{\\partial^2 x (1-x) \\phi (x,t)}{\\partial x^2}.$$\n",
      "\n",
      "This is a diffusion equation, a particular form of partial differential equation. Since PDEs are not a prerequisite for the course, we won't say very much more about that. If you want to learn more about the diffusion approximation, the basics are described in most population genetics textbooks mentioned in the syllabus. For a cool application in python in cases involving selection, changing population size, and multiple populations, look at [this paper](http://journals.plos.org/plosgenetics/article?id=10.1371/journal.pgen.1000695). \n",
      "\n",
      "If you are familiar with PDEs, you may notice that if you were to measure time in units of $\\tau=t/N$, the number of generations divided by the population size, the population size would disappear altogether. \n",
      "\n",
      "$$\\frac{\\partial \\phi (x,\\tau)}{\\partial \\tau}= \\frac{\\partial^2 x (1-x) \\phi (x,\\tau)}{\\partial x^2},$$\n",
      "\n",
      "This is important, since it means that the behavior of allele frequencies is governed by the single parameter $t/N$. If you double a population size, you just have to wait twice as long for the same change in allele frequency to occur. This is why the distribution of allele frequencies in constant-size populations was independent of population size in our previous notebooks. There are more segregating mutations in the larger population, but once they appear they follow the same equation. \n",
      "\n",
      "The diffusion approximation works pretty well in some situations, but it's not perfect. It has issues if there is a lot of structure in the population, and it's difficult to model correlations between sites correctly. \n",
      "\n",
      "##Coalescent theory\n",
      "\n",
      "If we get back to our Wright-Fisher model, you may notice another source of inefficiency: we simulate thousands of individuals, but in the end most of these do not leave genetic material to our samples. We spend a lot of time simulating alleles that will never be observed. If we had a way of only simulating the lineages that are actually ancestral to our sample, many things would become simpler. However, to do this, we'd have to know where alleles are headed before simulating them.  \n",
      "\n",
      "To do this, we can start from our sample in the present and attempt to reconstruct genealogies by going backwards in time. Once we have these genealogies, we can figure out where mutations happened. \n",
      "\n",
      "A typical genealogical tree for seven samples will look like this, where present-day individuals are at the bottom and the common ancestor is at the top. Next to each horizontal is the list of descendants to that lineage."
     ]
    },
    {
     "cell_type": "code",
     "collapsed": false,
     "input": [
      "### 1\n",
      "from IPython.display import Image\n",
      "#This will load an image from the below article by Bastien Mallein. Requires an internet connection\n",
      "Image(url='http://culturemath.ens.fr/nodeimages/images/coalescent_kingman_construction.jpg')"
     ],
     "language": "python",
     "metadata": {},
     "outputs": [
      {
       "html": [
        "<img src=\"http://culturemath.ens.fr/nodeimages/images/coalescent_kingman_construction.jpg\"/>"
       ],
       "metadata": {},
       "output_type": "pyout",
       "prompt_number": 1,
       "text": [
        "<IPython.core.display.Image at 0x10749b1d0>"
       ]
      }
     ],
     "prompt_number": 1
    },
    {
     "cell_type": "markdown",
     "metadata": {},
     "source": [
      "This genealogy looks like an upside-down tree, so I'll sometimes refer to the bottom tips of the tree  (the present-day lineages) as leafs, and to the top of the tree (the ancestor) as the root. \n",
      "\n",
      "Unfortunately, reconstructing the precise genealogy of our sample is usually impossible. Instead we simulate a large number of genealogies that are consistent with the data, and make predictions based on those. This approach is called coalescent theory, because we focus on tracing lineages back in time and seeing when they are expected to coalesce with each other. For example, if two individuals share a rare mutation, they are more likely to share a recent ancestor, so their lineage will be more likely to coalesce earlier. \n",
      "\n",
      "\n",
      "Coalescent theory has been deeply studied from mathematical, computational, and applied genetics perspectives. If you are interested in reading more, there is a very good introductory book by John Wakeley: *Coalescent Theory, an introduction*. Here I'll give only a brief overview so that we can get to work with some simulations.   \n",
      "\n",
      "We'll start with the simplest possible model: a population of $N$ haploid individuals, with a single neutral nonrecombining locus. We'll assume that reproduction follows the Wright-Fisher model. It turns out that we can model diploid organisms using the same model, but then we have to remember that the population size $N$ is the number of haploid genomes, which is twice the number of individuals in the population. Here, we'll count haploid genomes, so you might see some factor-of-two differences with references that use a diploid population size. \n",
      "\n",
      "Imagine that you ran a large number of Wright-Fisher experiments, and at the end of each simulation, you picked two individuals at random. The genealogy of these two samples is simple: it has two distinct lineages until the lineages meet at the most recent common ancestor (MRCA), and then it has a single lineage back to the beginning of time. To describe this genealogy, we only need to specify the time $T_{MRCA}$ to the coalescence event. \n",
      "Let's start by calculating the probability that coalescence occurs in the first generation, $P_1=P(T_{MRCA}=1)$. We can first let individual 1 pick any ancestor, and calculate the probability for individual $2$ to pick the same ancestor among $N$ choices. That gives us $P(T_{MRCA}=1)=\\frac{1}{N}.$ \n",
      "\n",
      "\n",
      "\n",
      "To get $T_{MRCA}=2$, the lineages must not coalesce in the first generation, but coalesce in the second. The probability of not coalescing in the first generation is $(1-P_1).$ Because the population size is constant, the probability $P_1$ that two surviving lineages coalesce is the same for all generations. Given no coalescence in the first generation, the probability of coalescing in the second is therefore $P_1.$ Putting these two probabilities together, we get $P(T_{MRCA}=2)=(1-P_1)P_1$. To coalesce exactly at time $t$, we must first not coalesce for $t-1$ generations, then coalesce at time $t$. That gives us a [geometric distribution](http://en.wikipedia.org/wiki/Geometric_distribution):\n",
      "\n",
      "\n",
      "\n",
      "$$P(T_{MRCA}=t)=\\left(1-P_1\\right)^{t-1} P_1=\\left(1-\\frac{1}{N}\\right)^{t-1} \\frac{1}{N}.$$   \n",
      "\n",
      "If $N$ is large, this distribution can be approximated by an [exponential distribution](http://en.wikipedia.org/wiki/Exponential_distribution) with the same mean: $P(T_{MRCA}=t)=\\frac{e^-\\frac{t}{N}}{N}.$ You can verify this agreement mathematically, or numerically:"
     ]
    },
    {
     "cell_type": "code",
     "collapsed": false,
     "input": [
      "### 2\n",
      "import numpy as np\n",
      "import matplotlib.pyplot as plt #matplotlib is plotting library\n",
      "%matplotlib inline\n",
      "N=10\n",
      "samplesize=100000\n",
      "#draw samplesize random times according to a geometric distribution with success rate p=1/N\n",
      "geometricsample=np.random.geometric(1./N,size=samplesize) #s/=.*/=.../\n",
      "#draw samplesize random times according to an exponential distribution with rate \\lambda=1/N\n",
      "#watch out: the np.random.exponential function of python uses a strange convention\n",
      "#the input parameter is the *inverse* rate\n",
      "exponentialsample=np.random.exponential(N,size=samplesize) #s/=.*/=.../\n",
      "plt.hist([geometricsample, exponentialsample]);\n",
      "plt.xlabel(\"Tmrca\")\n",
      "plt.ylabel(\"number of observations\")"
     ],
     "language": "python",
     "metadata": {},
     "outputs": [
      {
       "metadata": {},
       "output_type": "pyout",
       "prompt_number": 2,
       "text": [
        "<matplotlib.text.Text at 0x10a284610>"
       ]
      },
      {
       "metadata": {},
       "output_type": "display_data",
       "png": "[encoded data removed]",
       "text": [
        "<matplotlib.figure.Figure at 0x10a032fd0>"
       ]
      }
     ],
     "prompt_number": 2
    },
    {
     "cell_type": "markdown",
     "metadata": {},
     "source": [
      "From either distribution, the average time to coalescence is equal to the population size: $<T_{MRCA}>=N$. That's a simple result, but it has a profound consequence: **the larger the population, the more time there has been since the common ancestor to accumulate mutations**. If mutations are rare enough that back mutations are unlikely, it tells us that the number of differences between two haploid genomes is proportional to the population size. This explains why the larger populations in the frequencySpectrum forward simulations had more variants. Using only \"forward\" arguments, this is not nearly as straightforward to explain.\n",
      "\n",
      "\n",
      "If we have more than two samples, things get only a bit more complicated: if we have $k$ samples, we have $\\frac{k (k-1)}{2}$ pairs of samples, each of which has an equal probability of coalescing, namely $\\frac{1}{N}$ per generation. As long as our sample is much smaller than the population size, we can just assume the coalescence of each pair is independent, so that the single-generation probability $P_1(i)$ of coalescence among $i$ lineages is just the number of pairs $\\frac{i (i-1)}{2}$ times the coalescence probability of two samples, $\\frac{1}{N}$, i.e.,  $$P_1(i)=\\frac{i (i-1)}{2N}$$ \n",
      "\n",
      "To show this, it's easier to consider the probability of *not* coalescing, and building our sample one lineage at a time. The first pair of lineages has probability $1-\\frac{1}{N}$ of not coalescing. In that case, we have two ancestors in the previous generation. The third lineage then has a probability $1-\\frac{2}{N}$ of not coalescing with these two ancestors, which adds a third ancestor. The fourth sample then has probability $1-\\frac{3}{N}$ of not coalescing, and so forth. The total probability of not coalescing is the product of all these probabilities: \n",
      "$$P_{not}(i)=1-P_1(i)=\\prod_{k=1}^{i-1} \\left(1-\\frac{k}{N}\\right).$$\n",
      "Since $k\\ll N$, we only consider the linear terms in $\\frac{1}{N}$:\n",
      "$$1-P_1(i)\\simeq1-\\sum_{k=1}^{i-1} k/N=1-\\frac{i (i-1)}{2N},$$\n",
      "and therefore\n",
      "$$P_1(i)=\\frac{i (i-1)}{2N}.$$\n",
      "\n",
      "\n",
      "In the previous text block, we calculated the distribution of $T_{MRCA}$ for two lineages. We can interpret this as the time\n",
      "$T_2$ during which two lineages survive before coalescing: $P(T_2=t)=(1-P_1(2))^{t-1}P_1(2).$ Now we have extended this to more than two lineages. If we consider the time $T_i$ during which $i$ lineages survive without coalescing, we have  \n",
      "$$P(T_i=t)=(1-P_1(i))^{t-1}P_1(i),$$\n",
      "where $P_1(i)$ is the probability of observing one coalescence in one generation among $i$ lineages. In the continuous approximation, $T_i$ is distributed according to $P(T_i=t)=\\lambda_i e^{\\lambda_i t}$, with rate $\\lambda_i=\\frac{i (i-1)}{2 N}.$ \n",
      "\n",
      "\n",
      "The time $T_{MRCA}$ to the most recent common ancestor among $k$ samples is the sum of the times it takes to go from $k$ lineages to $k-1$, then to $k-2$, and so forth until a single lineage is left: $P(T_{MRCA})=\\sum_{i=2}^k T_i$. This is a somewhat complicated distribution, but it's easy to compute its expectation: \n",
      "\n",
      "$$E[T_{MRCA}]=\\sum_{i=2}^k E[T_i]=\\sum_{i=2}^k \\frac{1}{\\lambda_i}=2 N (1-1/k).$$\n",
      "\n",
      "This is easy to verify numerically:"
     ]
    },
    {
     "cell_type": "code",
     "collapsed": false,
     "input": [
      "### 3\n",
      "\n",
      "def getcoaltimes(k,N):\n",
      "    \"\"\"Starting with k lineages, simulate the coalescence times needed to reach \n",
      "    k-1, k-2,..., down to 1 lineage, in the continuous approximation\n",
      "    Returns a list of the times taken by each coalescent event.\n",
      "    \"\"\"\n",
      "    \n",
      "    tcoals=np.zeros(k-1) #container for the coalescent times. \n",
      "    #We'll store them in the order in which we compute them: we'll start with T_nsamp and end with T_2 \n",
      "    for i in range(k,1,-1): #k is the initial number of lineages; i is the current number of lineages\n",
      "        #get the coalecence rate\n",
      "        lam=i*(i-1)/(2.*N) #s/=.*/.../\n",
      "        #draw the time to the next coalescence in the continuous approximation\n",
      "        #watch out: the np.random.exponential function of python uses a strange convention \n",
      "        tcoal=np.random.exponential(1./lam) #s/=.*/.../\n",
      "        #print tcoal\n",
      "        tcoals[k-i]=tcoal\n",
      "    return tcoals\n",
      "\n",
      "#Try with different values of ndraws, k, and N, make sure that it fits with the theory\n",
      "ndraws=1000 #the number of experiments to run\n",
      "k=100 #the sample size\n",
      "N=100 #the population size\n",
      "\n",
      "listoftimes=[getcoaltimes(k,N) for i in range(ndraws)];\n",
      "TMRCAs=[times.sum() for times in listoftimes]\n",
      "plt.hist(TMRCAs)\n",
      "plt.xlabel(\"TMRCA\")\n",
      "plt.ylabel(\"Number of observations\")\n",
      "\n",
      "print \"observed mean T_MRCA\", np.mean(TMRCAs)\n",
      "print \"expected mean T_MRCA\", 2*N*(1-1./k)\n",
      "    "
     ],
     "language": "python",
     "metadata": {},
     "outputs": [
      {
       "output_type": "stream",
       "stream": "stdout",
       "text": [
        "observed mean T_MRCA 201.750350201\n",
        "expected mean T_MRCA 198.0\n"
       ]
      },
      {
       "metadata": {},
       "output_type": "display_data",
       "png": "[encoded data removed]",
       "text": [
        "<matplotlib.figure.Figure at 0x10a5d7290>"
       ]
      }
     ],
     "prompt_number": 3
    },
    {
     "cell_type": "markdown",
     "metadata": {},
     "source": [
      "The time to reach a common ancestor grows with the sample size, but not very fast. If we take a population size of $N=10,000,$ which is often used to model human populations over long time-scales, the time to reach the most recent common ancestor of two samples is approximately $10,000$ generations, or about $300,000$ years. The time to reach the common ancestor for 100000 samples is only about twice as much. \n",
      "\n",
      "Finally, the coalescence rates per generation, $\\lambda_i=\\frac{i (i-1)}{2 N},$ are all proportional to $1/N.$ If we were to measure the time in units of $N$ generations, the rate of coalescence becomes independent of the population size. This is a simple but powerful observation: if we measure time in units of $N$ generations, genealogies will look exactly the same for all population sizes. This is why the frequency spectra we simulated for constant-size populations had the same shape for all population sizes."
     ]
    },
    {
     "cell_type": "markdown",
     "metadata": {},
     "source": [
      "We'll get back to this, but let's generate and plot a few of these genealogies before we get too deep into the theory.\n",
      "To generate them, we will start with a number of lineages, then pick a time for the first coalescence to occur. Then we'll pick a pair of lineages and coalesce them into a single lineage. Since we want to be able to plot the genealogy in the end, we'll have to remember, for each lineage, the list of coalescent events that led to it. \n",
      "\n",
      "A classical way to keep track of this would be to group coalesced lineages as lists (or tuples). If we start with 4 lineages: (1,2,3,4), and pick lineages 2 and 4 to coalesce, we'd write the 3 new lineages as\n",
      "((2,4),1,3). WOut of the three lineages, one of which has two descendants: (2,4). If (2,4) coalesces with 1, we have two lineages: (((2,4),1),3) At that point, there are only two lineages left, so they must coalesce with each other and we are done with the coalescence. \n",
      "\n",
      "This is a classical way of writing down a tree structure, and you can reconstruct the order of all coalescence vets from (((2,4),1),3). However, because python is object-oriented, there is a more natural way of doing this: We can define a \"lineage\" class, which will store all the information we need: its descending lineages, but also things like its start and end time, or the length of its descending lineages. As a bonus, we can add in methods for calculating the length of lineages, and for plotting them. \n",
      "\n",
      "Note that a lineage class defined like this is recursive: a lineage can contain attributes that are themselves lineages. This may be a bit confusing, but it is fine with python, because the recursion is not infinite: at some point, we'll find a lineage with no descendants. It's really not different from lists containing lists in our expression: (((2,4),1),3)\n",
      "\n",
      "\n",
      "\n",
      "\n"
     ]
    },
    {
     "cell_type": "code",
     "collapsed": false,
     "input": [
      "### 4\n",
      "class lineage:\n",
      "    def __init__(self,sub1=None,sub2=None):\n",
      "        \"\"\"The lineage class is used to describe ancestral lineages. A lineage \n",
      "        either starts from a sample at time 0 (a leaf) or it is the result of the \n",
      "        coalescence of two lineages. In either case, it traces back in time \n",
      "        until it coalesces.\n",
      "        \n",
      "        attributes: \n",
      "        sub1:the first descendant lineage (default: None if the lineage starts at present)\n",
      "        sub2:the second descendant lineage (default: None if the lineage starts at present)\n",
      "        If the lineage starts at present, both sub1 and sub2 are None. \n",
      "        If it is formed by coalescence, both are lineages. \n",
      "        T0: the time at which the lineage was first encountered (the most recent time)\n",
      "        T1:  the time at which the lineage coalesces (typically not known when the lineage is first created)\n",
      "        nsamples: the number of samples that trace their ancestry to this lineage\n",
      "        length=T1-T0, the total times spent in the lineage. \n",
      "        \"\"\"\n",
      "        self.sub1=sub1 #the first descendant lineage\n",
      "        self.sub2=sub2 #the second descendant lineage \n",
      "         \n",
      "        if sub1 is None:\n",
      "            #then the lineage is a leaf\n",
      "            assert sub2 is None, \"If the lineage is a leaf, both sub1 and sub2 are None. \\\n",
      "            Currently sub1 is None but sub2 is not\"\n",
      "            self.T0=0\n",
      "            self.nsamples=1 #since this is a leaf, there are only 1 descending sample\n",
      "        else: \n",
      "            #we haven't defined T1 yet, but we assume that coalescing lineages will \n",
      "            #have a coalescing time:\n",
      "            assert sub1.T1==sub2.T1,\"coalescing lineages should coalesce at the same time!\"\n",
      "            self.T0=sub1.T1 #the founding time of the coalesced lineage is the coalescing time of \n",
      "            #the desending lineages.\n",
      "            #Now compute the number of samples descending from the current lineage. \n",
      "            #Recursion makes this very simple! We can just add up the number of samples in each\n",
      "            #sublineages\n",
      "            self.nsamples=sub1.nsamples+sub2.nsamples #s/=.*/=.../\n",
      "    def coalesce(self,lineage2,time):\n",
      "        \"\"\"coalesce the current lineage with a second lineage lineage2 at time t\n",
      "        Updates the coalescence time in both lineages, and returns the coalesced lineage\"\"\"\n",
      "        self.T1=time\n",
      "        lineage2.T1=time\n",
      "        return lineage(self,lineage2)\n",
      "    def plot(self,width,center):\n",
      "        \"\"\"Plots the lineage and all its descending lineages. To avoid overlap when plotting\n",
      "        multiple lineages, we specify the width and center of the lineage along the x-axis.\n",
      "        Time is plotted along the y axis, and uses the lineage T0 and T1\"\"\"\n",
      "        plt.plot([center,center],[self.T0,self.T1],'b') #plot vertical lineage\n",
      "        if self.T0!=0:\n",
      "            #assign width proportional to the number of lineages in each sub-lineage\n",
      "            n1=self.sub1.nsamples\n",
      "            n2=self.sub2.nsamples\n",
      "            w1=n1*1./(n1+n2)*width\n",
      "            w2=n2*1./(n1+n2)*width\n",
      "            mid1=center-width/2.+w1/2. #Find the center of each window\n",
      "            mid2=center+width/2.-w2/2.\n",
      "            plt.plot([mid1,mid2],[self.T0,self.T0],'b') #plot horizontal connector\n",
      "            self.sub1.plot(w1,mid1) #plot descending lineages\n",
      "            self.sub2.plot(w2,mid2)\n",
      "    def get_length(self):\n",
      "        \"\"\"returns a tuple whose first element is the time spent in the current lineage, \n",
      "        and the second element is total length spent in the present lineage plus all descending lineages\"\"\"\n",
      "        self.length=self.T1-self.T0\n",
      "        if self.sub1 is None: #then the time spent in the lineage and the total time are the same\n",
      "            return (self.length,self.length)\n",
      "        else:\n",
      "            #to get the total time, use the recursion property again!\n",
      "            #First compute the total length within the sub1 and sub2 lineages\n",
      "            lengths1=self.sub1.get_length()[1]#s/=.*/.../\n",
      "            lengths2=self.sub2.get_length()[1]#s/=.*/.../\n",
      "            \n",
      "            return (self.length,self.length+lengths1+lengths2) #s/\\,self.*/,...)/"
     ],
     "language": "python",
     "metadata": {},
     "outputs": [],
     "prompt_number": 4
    },
    {
     "cell_type": "markdown",
     "metadata": {},
     "source": [
      "To test this, the best is probably to generate a quick coalescent simulation. While we're at it we'll also create a class for this"
     ]
    },
    {
     "cell_type": "code",
     "collapsed": false,
     "input": [
      "### 5\n",
      "class coalsim:\n",
      "    def __init__(self,k):\n",
      "        \"\"\"\n",
      "        Performs a coalescent simulation using the lineage class\n",
      "        Input:\n",
      "        k:the number of lineages \n",
      "        Attributes:\n",
      "        self.linlist= the list of lineages currently \"live\", or un-coalesced\n",
      "        self.currtime= the time of the lst coalescence.\n",
      "        \"\"\"\n",
      "        self.linlist=[lineage() for i in range(k)] #A list of empty lineages\n",
      "        \n",
      "        self.currtime=0 #start at time 0\n",
      "    def coal(self,N,maxtime=\"auto\"):\n",
      "        \"\"\"N is the population size.\n",
      "        If tcoal=\"auto\", performs coalescence until only one lineage is left.\n",
      "        Otherwise, perform coalescence for a fixed amount of time\n",
      "        Does not return anything; updates the list of lineages self.linlist\n",
      "        \"\"\"\n",
      "        i0=len(self.linlist)\n",
      "        starttime=self.currtime\n",
      "        \n",
      "        for i in np.arange(i0,1,-1):\n",
      "            assert i>=2,\"can't coalesce with less than two lineages!\"\n",
      "            #get the coalecence rate (as above)\n",
      "            lam=i*(i-1)/(2.*N) #s/=.*/.../\n",
      "            #draw the time to the next coalescence in the continuous approximation (as above)\n",
      "            #watch out: the np.random.exponential function of python uses a strange convention \n",
      "            tcoal=np.random.exponential(1./lam) #s/=.*/.../\n",
      "            newtime=self.currtime+tcoal\n",
      "            \n",
      "            if maxtime!=\"auto\": #check whether the coalescence occurred too early \n",
      "                if newtime>starttime+maxtime: #then ignore this coalescence, stop. \n",
      "                    \n",
      "                    break\n",
      "                    \n",
      "            \n",
      "            self.currtime=newtime #update time of latest coalescence\n",
      "            #pick the index for two lineages to coalesce.\n",
      "            #in other words, if we have i lineages, with index 0,...,i-1, we want to pick \n",
      "            #two indices at random in this list\n",
      "            \n",
      "            #coalindices should be a list of two integers\n",
      "            coalindices=np.random.choice(range(len(self.linlist)),2,replace=False)#s/=.*/.../\n",
      "            #the \"pop\" function extracts the lineages from the list and returns them \n",
      "            #we'll remove them from the list starting from the largest value so that \n",
      "            #we don't have to track changing index values.\n",
      "            coalindices.sort()\n",
      "\n",
      "            coallineages=[self.linlist.pop(index) for index in coalindices[::-1]] #a list of 2 extracted lineages\n",
      "            #create a new lineage using the coalesce function from \n",
      "            #from the first of these two lineages. \n",
      "            \n",
      "            newlineage=coallineages[0].coalesce(coallineages[1],self.currtime) #s/=.*/=.../\n",
      "\n",
      "            #set end time for the final lineage\n",
      "            if i==2: #Then we won't have any more coalescence, let's just give an arbitrary final length to the resulting lineage\n",
      "                newlineage.T1=newlineage.T0+1\n",
      "\n",
      "            self.linlist.append(newlineage)\n",
      "    \n",
      "    "
     ],
     "language": "python",
     "metadata": {},
     "outputs": [],
     "prompt_number": 5
    },
    {
     "cell_type": "markdown",
     "metadata": {},
     "source": [
      "We are ready to perform the simulation!"
     ]
    },
    {
     "cell_type": "code",
     "collapsed": false,
     "input": [
      "### 6\n",
      "k=100\n",
      "N=10 #N shouldn't change the shape of the tree.\n",
      "#initialize a coalescent simulation with k lineages\n",
      "sim=coalsim(k) #s/=.*/=.../\n",
      "#coalesce until one lineage is left\n",
      "sim.coal(N)#s/=.*/=.../\n",
      "sim.linlist[0].plot(1,0)\n",
      "print \"expected TMRCA=\",2*N*(1-1./k) #s/2.*/.../\n",
      "print \"TMRCA=\", sim.currtime\n",
      "plt.xticks([]);#remove x-axis tickmarks\n",
      "plt.xlabel(\"lineages\");\n",
      "plt.ylabel(\"time from present (generations)\");\n"
     ],
     "language": "python",
     "metadata": {},
     "outputs": [
      {
       "output_type": "stream",
       "stream": "stdout",
       "text": [
        "expected TMRCA= 19.8\n",
        "TMRCA= 53.0989794852\n"
       ]
      },
      {
       "metadata": {},
       "output_type": "display_data",
       "png": "[encoded data removed]",
       "text": [
        "<matplotlib.figure.Figure at 0x10a589090>"
       ]
      }
     ],
     "prompt_number": 6
    },
    {
     "cell_type": "markdown",
     "metadata": {},
     "source": [
      "As expected, the rate of coalescence is really fast in the beginning, but then slows down dramatically: most of the time between now and the TMRCA is spent waiting for a small number of lineages to converge. \n",
      "\n",
      "We can verify our prediction about the expected TMRCA by taking multiple coalescent simulations.  \n",
      "   "
     ]
    },
    {
     "cell_type": "code",
     "collapsed": false,
     "input": [
      "### 7\n",
      "TMRCAs=[]\n",
      "k=30\n",
      "N=10\n",
      "nruns=100\n",
      "for i in range(nruns):\n",
      "    #initialize a coalescent simulation with k lineages\n",
      "    sim=coalsim(k)#s/=.*/=.../\n",
      "    #coalesce until one lineage is left\n",
      "    sim.coal(N)#s/=.*/=.../\n",
      "    #get the TMRCA\n",
      "    TMRCAs.append(sim.currtime)#s/sim\\.currtime/.../\n",
      "print \"Expected TMRCA=\",2*N*(1-1./k)#s/2.*/.../\n",
      "print \"Observed TMRCA mean=\",np.mean(TMRCAs)"
     ],
     "language": "python",
     "metadata": {},
     "outputs": [
      {
       "output_type": "stream",
       "stream": "stdout",
       "text": [
        "Expected TMRCA= 19.3333333333\n",
        "Observed TMRCA mean= 20.2287279743\n"
       ]
      }
     ],
     "prompt_number": 7
    },
    {
     "cell_type": "markdown",
     "metadata": {},
     "source": [
      "$T_{MRCA}$ is an interesting property of a genealogy, but it does not tell us much about the present-day diversity in the population. For that, we have to add mutations to our model. If we assume that mutation rate is constant over time, the expected number of mutations along each branch will be proportional to the length of the branch. The expected number of polymorphisms in a sample is therefore propostional to the total length of the tree, the sum of the length of each branch. \n"
     ]
    },
    {
     "cell_type": "code",
     "collapsed": false,
     "input": [
      "### 8\n",
      "TMRCAs=[]\n",
      "totlengths=[]\n",
      "nsamp=30\n",
      "N=10\n",
      "nruns=100\n",
      "for i in range(nruns):\n",
      "    #initialize a coalescent simulation with k lineages (as above--you can just copy and paste)\n",
      "    sim=coalsim(nsamp) #s/=.*/=.../\n",
      "    #coalesce until one lineage is left\n",
      "    sim.coal(N) #s/=.*/=.../\n",
      "    #get the TMRCA\n",
      "    TMRCAs.append(sim.currtime)\n",
      "    #get the root lineage\n",
      "    root=sim.linlist[0]\n",
      "    #get the total length of lineages of the tree, which is the same as the total length of the \n",
      "    #root lineages\n",
      "    totlengths.append(root.get_length()[1])\n",
      "print \"Expected TMRCA=\",2*N*(1-1./nsamp) #s/2.*/.../\n",
      "print \"Observed TMRCA mean=\",np.mean(TMRCAs)\n",
      "print \"Observed Total length=\",np.mean(totlengths)"
     ],
     "language": "python",
     "metadata": {},
     "outputs": [
      {
       "output_type": "stream",
       "stream": "stdout",
       "text": [
        "Expected TMRCA= 19.3333333333\n",
        "Observed TMRCA mean= 19.357482358\n",
        "Observed Total length= 79.2753979332\n"
       ]
      }
     ],
     "prompt_number": 8
    },
    {
     "cell_type": "markdown",
     "metadata": {},
     "source": [
      "Remember that the expected number of segregating sites is proportional to the total length of the tree. We've predicted that this should be proportional to $N$. You can verify this by changing the values above. \n",
      "But how does it vary as a function of sample size? \n"
     ]
    },
    {
     "cell_type": "code",
     "collapsed": false,
     "input": [
      "### 9\n",
      "\n",
      "rangek=[2,3,4,5,8,10,15,20,50,100] #the sample sizes for which we will perform simulations\n",
      "N=1000 #the population size (since we know it doesn't really matter, let's just set it to one.) \n",
      "meanTotlengths=[]#container for the mean total times \n",
      "meanTMRCAs=[]#container for the mean tMRCA\n",
      "nruns=100\n",
      "for nsamp in rangek:\n",
      "    TMRCAs=[]\n",
      "    totlengths=[]\n",
      "    for i in range(nruns):\n",
      "       #initialize a coalescent simulation with nsamp lineages (as above--you can just copy and paste)\n",
      "        sim=coalsim(nsamp) #s/=.*/=.../\n",
      "        #coalesce until one lineage is left\n",
      "        sim.coal(N) #s/=.*/=.../\n",
      "        #get the TMRCA\n",
      "        TMRCAs.append(sim.currtime)\n",
      "        #get the root lineage\n",
      "        root=sim.linlist[0]\n",
      "        #get the total length of lineages of the tree, which is the same as the total length of the \n",
      "        #root lineages\n",
      "        totlengths.append(root.get_length()[1])\n",
      "    meanTotlengths.append(np.mean(totlengths))\n",
      "    meanTMRCAs.append(np.mean(TMRCAs))\n"
     ],
     "language": "python",
     "metadata": {},
     "outputs": [],
     "prompt_number": 9
    },
    {
     "cell_type": "code",
     "collapsed": false,
     "input": [
      "### 10\n",
      "plt.plot(rangek,meanTotlengths,'bo',label=\"tree length\")\n",
      "plt.plot(rangek,meanTMRCAs,'ro',label=\"T_MRCA\")\n",
      "plt.legend(loc=\"upper left\")\n",
      "plt.xlabel(\"sample size\")\n",
      "plt.ylabel(\"length (generations)\")"
     ],
     "language": "python",
     "metadata": {},
     "outputs": [
      {
       "metadata": {},
       "output_type": "pyout",
       "prompt_number": 10,
       "text": [
        "<matplotlib.text.Text at 0x10a5b9fd0>"
       ]
      },
      {
       "metadata": {},
       "output_type": "display_data",
       "png": "[encoded data removed]",
       "text": [
        "<matplotlib.figure.Figure at 0x10ba31150>"
       ]
      }
     ],
     "prompt_number": 10
    },
    {
     "cell_type": "markdown",
     "metadata": {},
     "source": [
      "The total tree length keeps growing well after the $T_{MRCA}$ has plateaued, but it also follows a law of diminishing returns. \n",
      "\n",
      "To see this mathematically, we can proceed just as we did for the derivation of $E[T_{MRCA}]$. \n",
      "The length of the tree in lineages between now ($t=0$) and the first coalescent event (t=$T_i$) is $iT_i,$ and the total length of the tree is \n",
      "\n",
      "$$E[T_{total}]=\\sum_{i=2}^k i E[T_i]=\\sum_{i=2}^k \\frac{i}{\\lambda_i}=2 N \\sum_{i=2}^{k}\\frac{1}{i-1}=2 N \\sum_{i=1}^{k-1}\\frac{1}{i}.$$\n",
      "\n",
      "The last sum does not simplify, but it has a name and a wikipedia page: it's called the [Harmonic number](http://en.wikipedia.org/wiki/Harmonic_number).\n",
      "$H(n)=\\sum_{i=1}^{n}\\frac{1}{i}\\simeq 0.577+\\log(n)+\\frac{1}{2n}.$\n",
      "\n"
     ]
    },
    {
     "cell_type": "code",
     "collapsed": false,
     "input": [
      "### 11\n",
      "expectTtot=[2*N*(0.577+np.log(n-1)+1./2./n) for n in rangek]\n",
      "plt.plot(rangek,meanTotlengths,'bo',label=\"tree length\")\n",
      "plt.plot(rangek,expectTtot,'b--',label=\"expected tree length\")\n",
      "expectTmrca=[2*N*(1-1./n) for n in rangek]\n",
      "plt.plot(rangek,meanTMRCAs,'ro',label=\"Tmrca\")\n",
      "plt.plot(rangek,expectTmrca,'r--',label=\"expected Tmrca\")\n",
      "plt.legend(loc=\"upper left\")\n",
      "plt.xlabel(\"sample size\")\n",
      "plt.ylabel(\"length\")"
     ],
     "language": "python",
     "metadata": {},
     "outputs": [
      {
       "metadata": {},
       "output_type": "pyout",
       "prompt_number": 11,
       "text": [
        "<matplotlib.text.Text at 0x10a638950>"
       ]
      },
      {
       "metadata": {},
       "output_type": "display_data",
       "png": "[encoded data removed]",
       "text": [
        "<matplotlib.figure.Figure at 0x10a697110>"
       ]
      }
     ],
     "prompt_number": 11
    },
    {
     "cell_type": "markdown",
     "metadata": {},
     "source": [
      "So the coalescent theory gives us a powerful tool to calculate and simulate observable genomic diversity. If the mutation rate per site $\\mu$ is low enough that back mutations are unlikely, the total number of segregating sites in a region of length $L$ is just $$S= \\mu L E[T_{total}]=2L N  \\mu \\sum_{i=1}^{k-1}\\frac{1}{i}.$$\n",
      "\n",
      "If we measure $S$ we can estimate $N \\mu$. \n",
      "\n",
      "$$\\theta\\equiv 2 N L\\mu=\\frac{S}{ \\sum_{i=1}^{k-1}\\frac{1}{i}}$$\n",
      "\n",
      "Given $L$ and an estimate of $\\mu$  from a direct experiment or a human-chimp alignemnt, we can get an estimate for the historical population size--this is how human population sizes of $\\simeq 10,000$ were derived. \n",
      "\n",
      " \n",
      " \n",
      "\n",
      "\n",
      "\n",
      "With just a bit more work, we can predict the expected number of alleles to be found in exactly $i$ out $n$ samples, $\\phi_n(i)$. This distribution is sometimes called the \"Site-frequency spectrum\" (SFS) or the \"Allele-frequency spectrum\" (AFS).\n",
      "\n",
      "The math is a bit involved, but the idea is simple. Consider the increase in the number of segregating sites when we go from a sample of size $n-1$ to a sample of size $n$. Our expression above shows that is just $\\theta (H(n-1)-H(n-2))=\\frac{2N}{n-1}.$ These extra segregating sites are found only in the last sample, so they must be singletons. And since all individuals are identical, the total number of singletons $\\phi_n(1)$ is simply $\\frac{\\theta n}{n-1}\\simeq \\theta$ if the sample size is large enough. The number of singletons does not depend on the sample size! You can repeat this procedure by counting the segregating sites due to the last two samples, $\\theta (H(n-1)-H(n-3))$. Some of these are singletons, but we know to expect $\\frac{2\\phi_n(1)}{n}$ of those. The remainder gives us the number of doubletons: $\\phi_n(2)\\simeq \\frac{\\theta}{2},$ also independent of the sample size. Working our way throughout, we can show that \n",
      "\n",
      "$$\\phi_n(i)\\simeq \\frac{\\theta}{i}$$ \n",
      "\n",
      "It's very easy to verify this using the framework that we just built. Given a coalesced genealogy, the number of singletons is proportional to the length of lineages having only one descendants. We could simply add a function to the genealogy class, but then I would have to copy the whole class here, so let's just define our SFS calculator as a standalone function. You can copy it back to the class when you are done with it.  \n",
      "\n"
     ]
    },
    {
     "cell_type": "code",
     "collapsed": false,
     "input": [
      "### 12\n",
      "def expectedSFS(coalescedlineage,n,u=1):\n",
      "    \"\"\"\n",
      "    \n",
      "    Gets the expected distribution of allele counts.\n",
      "    SFS[i] is the expected number of mutations \n",
      "    \n",
      "    that will be observed in exactly i of the samples descending from the current lineage. \n",
      "    \n",
      "    Returns a np array of length n+1.\n",
      "    SFS[0] should be the number of mutations appearing in 0 samples (that should be 0!)\n",
      "    SFS[1] is the number of singletons (i.e., mutations happening in terminal branches)\n",
      "    SFS[i] should be the number of mutations occurring in exactly i samples.\n",
      "    u is the expected number of mutations per generation along any given lineage \n",
      "    \n",
      "    Uses recursion: \n",
      "    Get the number of polymorphisms due to mutations along the current lineage, and\n",
      "    add the polymorphisms due to the two descendant lineages. \n",
      "    \n",
      "    \"\"\"\n",
      "    if coalescedlineage.sub1 == None:\n",
      "        #mutations along this lineage are singletons\n",
      "        SFS=np.zeros(n+1)\n",
      "        SFS[1]+=u * (coalescedlineage.T1-coalescedlineage.T0)#s/=.*/=.../\n",
      "        return SFS\n",
      "    else: \n",
      "        #first count the expected mutations in all descending lineages\n",
      "        SFS=expectedSFS(coalescedlineage.sub1,n,u=u)+expectedSFS(coalescedlineage.sub2,n,u=u)\n",
      "        #The add the number of mutations from the current lineage.\n",
      "        #You'll need to figure out\n",
      "        #1-how many samples will inherit mutations from the current lineage\n",
      "        #2-how many such mutations there will be.\n",
      "        SFS[coalescedlineage.nsamples]+=u * (coalescedlineage.T1-coalescedlineage.T0)#s/=.*\\)/=...\\)/#s/coalescedlineage\\.nsamples/.../\n",
      "        return SFS\n",
      "    "
     ],
     "language": "python",
     "metadata": {},
     "outputs": [],
     "prompt_number": 12
    },
    {
     "cell_type": "code",
     "collapsed": false,
     "input": [
      "### 13\n",
      "sfs=expectedSFS(root, root.nsamples)\n",
      "plt.plot(np.arange(root.nsamples+1),sfs)\n",
      "plt.ylabel(\"expected number of mutations\")\n",
      "plt.xlabel(\"sample frequency of mutations\")"
     ],
     "language": "python",
     "metadata": {},
     "outputs": [
      {
       "metadata": {},
       "output_type": "pyout",
       "prompt_number": 13,
       "text": [
        "<matplotlib.text.Text at 0x10bb5a510>"
       ]
      },
      {
       "metadata": {},
       "output_type": "display_data",
       "png": "[encoded data removed]",
       "text": [
        "<matplotlib.figure.Figure at 0x10a6c0450>"
       ]
      }
     ],
     "prompt_number": 13
    },
    {
     "cell_type": "code",
     "collapsed": false,
     "input": [
      "### 14\n",
      "root.plot(1,0)"
     ],
     "language": "python",
     "metadata": {},
     "outputs": [
      {
       "metadata": {},
       "output_type": "display_data",
       "png": "[encoded data removed]",
       "text": [
        "<matplotlib.figure.Figure at 0x10a5b9950>"
       ]
      }
     ],
     "prompt_number": 14
    },
    {
     "cell_type": "markdown",
     "metadata": {},
     "source": [
      "This is pretty noisy, because all the mutations on old lineages have the exact same number of descendants:"
     ]
    },
    {
     "cell_type": "markdown",
     "metadata": {},
     "source": [
      "If we draw a large number of simulations and average over them, this should even out. Copying from above, but adding the SFS generation:"
     ]
    },
    {
     "cell_type": "code",
     "collapsed": false,
     "input": [
      "### 15\n",
      "\n",
      "nsamp=100\n",
      "N=1000 #the population size (since we know it doesn't really matter, let's just set it to one.) \n",
      "nruns=1000\n",
      "u=1 #L \\mu, the number of mutations per genration across all sites\n",
      "SFSs=[]#container for the Site-frequency-spectrum (denoted as \\phi above)\n",
      "for i in range(nruns):\n",
      "   #initialize a coalescent simulation with k lineages (as above--you can just copy and paste)\n",
      "    sim=coalsim(nsamp) #s/=.*/=.../\n",
      "    #coalesce until one lineage is left\n",
      "    sim.coal(N) #s/=.*/=.../\n",
      "    #get the root lineage\n",
      "    root=sim.linlist[0]\n",
      "    #get the SFS\n",
      "    SFSs.append(expectedSFS(root, nsamp,u=u))\n",
      "    \n",
      "meanSFS=np.mean(SFSs,axis=0)\n"
     ],
     "language": "python",
     "metadata": {},
     "outputs": [],
     "prompt_number": 15
    },
    {
     "cell_type": "code",
     "collapsed": false,
     "input": [
      "### 16\n",
      "plt.plot(np.arange(nsamp+1),meanSFS)\n",
      "plt.ylabel(\"expected number of mutations\")\n",
      "plt.xlabel(\"sample frequency of mutations\")"
     ],
     "language": "python",
     "metadata": {},
     "outputs": [
      {
       "metadata": {},
       "output_type": "pyout",
       "prompt_number": 16,
       "text": [
        "<matplotlib.text.Text at 0x10ab099d0>"
       ]
      },
      {
       "metadata": {},
       "output_type": "display_data",
       "png": "[encoded data removed]",
       "text": [
        "<matplotlib.figure.Figure at 0x10aecbc50>"
       ]
      }
     ],
     "prompt_number": 16
    },
    {
     "cell_type": "markdown",
     "metadata": {},
     "source": [
      "If this fulfills our theoretical expectation, it should follow a $\\phi_n(i)=\\frac{\\theta}{i}$, with $\\theta=2Nu$ "
     ]
    },
    {
     "cell_type": "code",
     "collapsed": false,
     "input": [
      "### 17\n",
      "plt.loglog(np.arange(nsamp+1),meanSFS)\n",
      "#plot the theoretical expectation!\n",
      "plt.loglog(np.arange(nsamp+1),2*N*u*1./np.arange(nsamp+1))#s/2.*1\\)/...)/\n",
      "plt.ylabel(\"expected number of mutations\")\n",
      "plt.xlabel(\"sample frequency of mutations\")"
     ],
     "language": "python",
     "metadata": {},
     "outputs": [
      {
       "output_type": "stream",
       "stream": "stderr",
       "text": [
        "-c:4: RuntimeWarning: divide by zero encountered in divide\n"
       ]
      },
      {
       "metadata": {},
       "output_type": "pyout",
       "prompt_number": 17,
       "text": [
        "<matplotlib.text.Text at 0x10bc873d0>"
       ]
      },
      {
       "metadata": {},
       "output_type": "display_data",
       "png": "[encoded data removed]",
       "text": [
        "<matplotlib.figure.Figure at 0x10ae656d0>"
       ]
      }
     ],
     "prompt_number": 17
    },
    {
     "cell_type": "markdown",
     "metadata": {},
     "source": [
      "The theory and simulation should agree pretty well. Let's just try one more complicated population history, with a recent rapid growth. Let's say that the initial population size is $N=10000$, but that the population size increased 10-fold $500$ generations ago. "
     ]
    },
    {
     "cell_type": "code",
     "collapsed": false,
     "input": [
      "### 18\n",
      "\n",
      "nsamp=100\n",
      "N=10000 #the population size (since we know it doesn't really matter, let's just set it to one.) \n",
      "meanTotlengths=[]#container for the mean total times \n",
      "meanTMRCAs=[]#container for the mean tMRCA\n",
      "nruns=100\n",
      "growthfactor=10\n",
      "growthtime=500\n",
      "SFSs=[]\n",
      "for i in range(nruns):\n",
      "   #initialize a coalescent simulation with k lineages (as above--you can just copy and paste)\n",
      "    sim=coalsim(nsamp) #s/=.*/=.../\n",
      "    #coalesce for growthtime. Remember that we are going back in time.\n",
      "    sim.coal(growthfactor*N,maxtime=growthtime) #s/=.*/=.../\n",
      "    #print \"len mid\",len(sim.linlist)\n",
      "    sim.coal(N)#s/=.*/=.../\n",
      "    #print \"len post\",len(sim.linlist)\n",
      "    #get the root lineage\n",
      "    root=sim.linlist[0]\n",
      "    #get the SFS\n",
      "    SFSs.append(expectedSFS(root, nsamp))\n",
      "    \n",
      "meanSFS=np.mean(SFSs,axis=0)"
     ],
     "language": "python",
     "metadata": {},
     "outputs": [],
     "prompt_number": 18
    },
    {
     "cell_type": "code",
     "collapsed": false,
     "input": [
      "### 19\n",
      "root.plot(1,0)"
     ],
     "language": "python",
     "metadata": {},
     "outputs": [
      {
       "metadata": {},
       "output_type": "display_data",
       "png": "[encoded data removed]",
       "text": [
        "<matplotlib.figure.Figure at 0x10aecb8d0>"
       ]
      }
     ],
     "prompt_number": 19
    },
    {
     "cell_type": "markdown",
     "metadata": {},
     "source": [
      "The leaves of the tree should be noticeably longer (why?). A consequence of this is that there are more chances for mutations to accumulate on lineages with a single descendant. There should be more singletons, and more generally more rare variants."
     ]
    },
    {
     "cell_type": "code",
     "collapsed": false,
     "input": [
      "### 20\n",
      "plt.loglog(np.arange(nsamp+1),meanSFS)\n",
      "plt.loglog(np.arange(nsamp+1),2*N*1./np.arange(nsamp+1))\n",
      "plt.ylabel(\"number of mutations\")\n",
      "plt.xlabel(\"sample frequency of mutations\")"
     ],
     "language": "python",
     "metadata": {},
     "outputs": [
      {
       "output_type": "stream",
       "stream": "stderr",
       "text": [
        "-c:3: RuntimeWarning: divide by zero encountered in divide\n"
       ]
      },
      {
       "metadata": {},
       "output_type": "pyout",
       "prompt_number": 20,
       "text": [
        "<matplotlib.text.Text at 0x10c04ad10>"
       ]
      },
      {
       "metadata": {},
       "output_type": "display_data",
       "png": "[encoded data removed]",
       "text": [
        "<matplotlib.figure.Figure at 0x10bee58d0>"
       ]
      }
     ],
     "prompt_number": 20
    },
    {
     "cell_type": "markdown",
     "metadata": {},
     "source": [
      "This excess of rare variants is quite small, but it is observable in humans (e.g., figure 2B in [this paper](http://www.sciencemag.org/content/337/6090/64.full.pdf)).\n",
      "\n",
      "To recap, the coalescent is an extremely powerful tool for studying neutral evolution, because we can sample the genealogies independently of the mutations that occur along them. It can generate useful predictions, either through mathematics or through simulations, so it's popular with the more theoretical crowd as well as with more applied population geneticists. \n",
      "\n",
      "A highly optimized coalescent simulator for neutral evolution implementing the same functionality and many, many more options is [ms](http://bioinformatics.oxfordjournals.org/content/18/2/337.full.pdf+html). \n",
      "\n",
      "\n",
      "When we want to model selection, things get quite a bit more complicated. Recombination also makes the coalescent theory a bit more complicated, but recent progress has made it much more tractable. That'll be the topic of our next two notebooks. \n"
     ]
    }
   ],
   "metadata": {}
  }
 ]
}