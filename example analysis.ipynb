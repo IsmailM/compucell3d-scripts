{
 "metadata": {
  "name": "example analysis"
 },
 "nbformat": 3,
 "nbformat_minor": 0,
 "worksheets": [
  {
   "cells": [
    {
     "cell_type": "code",
     "collapsed": false,
     "input": [
      "from cc3dtools.GenomeCompare import GenomeCompare"
     ],
     "language": "python",
     "metadata": {},
     "outputs": [],
     "prompt_number": 1
    },
    {
     "cell_type": "code",
     "collapsed": false,
     "input": [
      "c = GenomeCompare.from_gen_file('./datafiles/gen_26.csv')\n",
      "print 'number of genomes:'+str(len(c.genomes))"
     ],
     "language": "python",
     "metadata": {},
     "outputs": [
      {
       "output_type": "stream",
       "stream": "stdout",
       "text": [
        "number of genomes:93\n"
       ]
      }
     ],
     "prompt_number": 2
    },
    {
     "cell_type": "code",
     "collapsed": false,
     "input": [
      "c.diff(3,13)"
     ],
     "language": "python",
     "metadata": {},
     "outputs": [
      {
       "output_type": "pyout",
       "prompt_number": 5,
       "text": [
        "{'loci_different': [342, 392, 633, 147, 225, 943],\n",
        " 'total_unique_mutations': 6,\n",
        " 'unique_to_1': [342, 392, 633],\n",
        " 'unique_to_2': [147, 225, 943]}"
       ]
      }
     ],
     "prompt_number": 5
    },
    {
     "cell_type": "code",
     "collapsed": false,
     "input": [
      "c.comm(3, 13)"
     ],
     "language": "python",
     "metadata": {},
     "outputs": [
      {
       "output_type": "pyout",
       "prompt_number": 6,
       "text": [
        "{'loci_common': [19,\n",
        "  24,\n",
        "  43,\n",
        "  53,\n",
        "  67,\n",
        "  89,\n",
        "  140,\n",
        "  187,\n",
        "  265,\n",
        "  318,\n",
        "  373,\n",
        "  394,\n",
        "  461,\n",
        "  552,\n",
        "  582,\n",
        "  584,\n",
        "  740,\n",
        "  765,\n",
        "  787,\n",
        "  841,\n",
        "  899,\n",
        "  970,\n",
        "  979],\n",
        " 'total_common_mutations': 23}"
       ]
      }
     ],
     "prompt_number": 6
    },
    {
     "cell_type": "code",
     "collapsed": false,
     "input": [
      "# 740th gene\n",
      "c.mutation_chart(draw=True)"
     ],
     "language": "python",
     "metadata": {},
     "outputs": [
      {
       "output_type": "pyout",
       "prompt_number": 26,
       "text": [
        "array([[ 0.,  0.,  0., ...,  0.,  0.,  0.],\n",
        "       [ 0.,  0.,  0., ...,  1.,  0.,  1.],\n",
        "       [ 0.,  0.,  0., ...,  0.,  0.,  0.],\n",
        "       ..., \n",
        "       [ 0.,  0.,  0., ...,  0.,  0.,  0.],\n",
        "       [ 0.,  0.,  0., ...,  0.,  0.,  0.],\n",
        "       [ 0.,  0.,  0., ...,  0.,  0.,  0.]])"
       ]
      }
     ],
     "prompt_number": 26
    },
    {
     "cell_type": "code",
     "collapsed": false,
     "input": [],
     "language": "python",
     "metadata": {},
     "outputs": []
    }
   ],
   "metadata": {}
  }
 ]
}