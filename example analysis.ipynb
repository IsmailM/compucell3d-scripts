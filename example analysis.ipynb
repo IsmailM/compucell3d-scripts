{
 "metadata": {
  "name": "example analysis"
 },
 "nbformat": 3,
 "nbformat_minor": 0,
 "worksheets": [
  {
   "cells": [
    {
     "cell_type": "code",
     "collapsed": false,
     "input": [
      "from cc3dtools.GenomeCompare import GenomeCompare"
     ],
     "language": "python",
     "metadata": {},
     "outputs": [],
     "prompt_number": 5
    },
    {
     "cell_type": "code",
     "collapsed": false,
     "input": [
      "c = GenomeCompare.from_aligned_gen_file('./aligned_save.csv.csv')\n",
      "total_genomes = len(c.genomes)\n",
      "print 'number of genomes:'+str(len(c.genomes))"
     ],
     "language": "python",
     "metadata": {},
     "outputs": [
      {
       "output_type": "stream",
       "stream": "stdout",
       "text": [
        "number of genomes:93\n"
       ]
      }
     ],
     "prompt_number": 6
    },
    {
     "cell_type": "code",
     "collapsed": false,
     "input": [
      "c.diff(3,13)"
     ],
     "language": "python",
     "metadata": {},
     "outputs": [
      {
       "output_type": "pyout",
       "prompt_number": 7,
       "text": [
        "{'loci_different': [392.0, 342.0, 633.0, 147.0, 943.0, 225.0],\n",
        " 'total_unique_mutations': 6,\n",
        " 'unique_to_1': [392.0, 342.0, 633.0],\n",
        " 'unique_to_2': [147.0, 943.0, 225.0]}"
       ]
      }
     ],
     "prompt_number": 7
    },
    {
     "cell_type": "code",
     "collapsed": false,
     "input": [
      "c.comm(3, 13)"
     ],
     "language": "python",
     "metadata": {},
     "outputs": [
      {
       "output_type": "pyout",
       "prompt_number": 8,
       "text": [
        "{'loci_common': [899.0,\n",
        "  265.0,\n",
        "  394.0,\n",
        "  140.0,\n",
        "  19.0,\n",
        "  24.0,\n",
        "  552.0,\n",
        "  43.0,\n",
        "  53.0,\n",
        "  187.0,\n",
        "  318.0,\n",
        "  67.0,\n",
        "  582.0,\n",
        "  584.0,\n",
        "  841.0,\n",
        "  970.0,\n",
        "  461.0,\n",
        "  979.0,\n",
        "  89.0,\n",
        "  740.0,\n",
        "  787.0,\n",
        "  373.0,\n",
        "  765.0],\n",
        " 'total_common_mutations': 23}"
       ]
      }
     ],
     "prompt_number": 8
    },
    {
     "cell_type": "code",
     "collapsed": false,
     "input": [],
     "language": "python",
     "metadata": {},
     "outputs": [
      {
       "ename": "IndexError",
       "evalue": "index must be either an int or a sequence",
       "output_type": "pyerr",
       "traceback": [
        "\u001b[0;31m---------------------------------------------------------------------------\u001b[0m\n\u001b[0;31mIndexError\u001b[0m                                Traceback (most recent call last)",
        "\u001b[0;32m<ipython-input-9-ff9bb70c42ff>\u001b[0m in \u001b[0;36m<module>\u001b[0;34m()\u001b[0m\n\u001b[1;32m      1\u001b[0m \u001b[0;31m# 740th gene\u001b[0m\u001b[0;34m\u001b[0m\u001b[0;34m\u001b[0m\u001b[0m\n\u001b[0;32m----> 2\u001b[0;31m \u001b[0mc\u001b[0m\u001b[0;34m.\u001b[0m\u001b[0mmutation_chart\u001b[0m\u001b[0;34m(\u001b[0m\u001b[0;34m)\u001b[0m\u001b[0;34m[\u001b[0m\u001b[0;36m740\u001b[0m\u001b[0;34m]\u001b[0m\u001b[0;34m\u001b[0m\u001b[0m\n\u001b[0m",
        "\u001b[0;32m/Users/zafaraliahmed/summer15/compucell3d-scripts/cc3dtools/GenomeCompare.pyc\u001b[0m in \u001b[0;36mmutation_chart\u001b[0;34m(self, draw, order)\u001b[0m\n\u001b[1;32m    118\u001b[0m                         \u001b[0mgenome\u001b[0m \u001b[0;34m=\u001b[0m \u001b[0mself\u001b[0m\u001b[0;34m.\u001b[0m\u001b[0mgenomes\u001b[0m\u001b[0;34m[\u001b[0m\u001b[0mgenomeid\u001b[0m\u001b[0;34m]\u001b[0m\u001b[0;34m\u001b[0m\u001b[0m\n\u001b[1;32m    119\u001b[0m                         \u001b[0;32mfor\u001b[0m \u001b[0mgene\u001b[0m \u001b[0;32min\u001b[0m \u001b[0mgenome\u001b[0m\u001b[0;34m.\u001b[0m\u001b[0mget_mutated_loci\u001b[0m\u001b[0;34m(\u001b[0m\u001b[0;34m)\u001b[0m\u001b[0;34m:\u001b[0m\u001b[0;34m\u001b[0m\u001b[0m\n\u001b[0;32m--> 120\u001b[0;31m                                 \u001b[0mrep\u001b[0m\u001b[0;34m[\u001b[0m\u001b[0mgene\u001b[0m\u001b[0;34m]\u001b[0m\u001b[0;34m[\u001b[0m\u001b[0mgenomeid\u001b[0m\u001b[0;34m]\u001b[0m \u001b[0;34m=\u001b[0m \u001b[0;36m1\u001b[0m\u001b[0;34m\u001b[0m\u001b[0m\n\u001b[0m\u001b[1;32m    121\u001b[0m \u001b[0;34m\u001b[0m\u001b[0m\n\u001b[1;32m    122\u001b[0m                 \u001b[0;32mif\u001b[0m \u001b[0mdraw\u001b[0m\u001b[0;34m:\u001b[0m\u001b[0;34m\u001b[0m\u001b[0m\n",
        "\u001b[0;31mIndexError\u001b[0m: index must be either an int or a sequence"
       ]
      },
      {
       "output_type": "stream",
       "stream": "stdout",
       "text": [
        "genomeid: 0\n",
        "genomeid: 1\n"
       ]
      }
     ],
     "prompt_number": 9
    },
    {
     "cell_type": "code",
     "collapsed": false,
     "input": [
      "# percentage of genomes over which gene 740 is mutated\n",
      "c.gene_mutations()[740]"
     ],
     "language": "python",
     "metadata": {},
     "outputs": [
      {
       "ename": "IndexError",
       "evalue": "index must be either an int or a sequence",
       "output_type": "pyerr",
       "traceback": [
        "\u001b[0;31m---------------------------------------------------------------------------\u001b[0m\n\u001b[0;31mIndexError\u001b[0m                                Traceback (most recent call last)",
        "\u001b[0;32m<ipython-input-10-72fb2a2d0a2e>\u001b[0m in \u001b[0;36m<module>\u001b[0;34m()\u001b[0m\n\u001b[1;32m      1\u001b[0m \u001b[0;31m# percentage of genomes over which gene 740 is mutated\u001b[0m\u001b[0;34m\u001b[0m\u001b[0;34m\u001b[0m\u001b[0m\n\u001b[0;32m----> 2\u001b[0;31m \u001b[0mc\u001b[0m\u001b[0;34m.\u001b[0m\u001b[0mgene_mutations\u001b[0m\u001b[0;34m(\u001b[0m\u001b[0;34m)\u001b[0m\u001b[0;34m[\u001b[0m\u001b[0;36m740\u001b[0m\u001b[0;34m]\u001b[0m\u001b[0;34m\u001b[0m\u001b[0m\n\u001b[0m",
        "\u001b[0;32m/Users/zafaraliahmed/summer15/compucell3d-scripts/cc3dtools/GenomeCompare.pyc\u001b[0m in \u001b[0;36mgene_mutations\u001b[0;34m(self)\u001b[0m\n\u001b[1;32m    140\u001b[0m                         \u001b[0mthe\u001b[0m \u001b[0mindexed\u001b[0m \u001b[0mgene\u001b[0m \u001b[0;32mis\u001b[0m \u001b[0mmutated\u001b[0m\u001b[0;34m\u001b[0m\u001b[0m\n\u001b[1;32m    141\u001b[0m \t\t\"\"\"\n\u001b[0;32m--> 142\u001b[0;31m                 \u001b[0mx\u001b[0m \u001b[0;34m=\u001b[0m \u001b[0mself\u001b[0m\u001b[0;34m.\u001b[0m\u001b[0mmutation_chart\u001b[0m\u001b[0;34m(\u001b[0m\u001b[0;34m)\u001b[0m\u001b[0;34m\u001b[0m\u001b[0m\n\u001b[0m\u001b[1;32m    143\u001b[0m                 \u001b[0;32mreturn\u001b[0m \u001b[0mmap\u001b[0m \u001b[0;34m(\u001b[0m \u001b[0;32mlambda\u001b[0m \u001b[0my\u001b[0m \u001b[0;34m:\u001b[0m \u001b[0my\u001b[0m \u001b[0;34m/\u001b[0m \u001b[0mfloat\u001b[0m\u001b[0;34m(\u001b[0m \u001b[0mlen\u001b[0m\u001b[0;34m(\u001b[0m \u001b[0mself\u001b[0m\u001b[0;34m.\u001b[0m\u001b[0mgenomes\u001b[0m \u001b[0;34m)\u001b[0m \u001b[0;34m)\u001b[0m\u001b[0;34m,\u001b[0m \u001b[0mmap\u001b[0m\u001b[0;34m(\u001b[0m \u001b[0msum\u001b[0m \u001b[0;34m,\u001b[0m \u001b[0mx\u001b[0m \u001b[0;34m)\u001b[0m \u001b[0;34m)\u001b[0m\u001b[0;34m\u001b[0m\u001b[0m\n\u001b[1;32m    144\u001b[0m \u001b[0;34m\u001b[0m\u001b[0m\n",
        "\u001b[0;32m/Users/zafaraliahmed/summer15/compucell3d-scripts/cc3dtools/GenomeCompare.pyc\u001b[0m in \u001b[0;36mmutation_chart\u001b[0;34m(self, draw, order)\u001b[0m\n\u001b[1;32m    118\u001b[0m                         \u001b[0mgenome\u001b[0m \u001b[0;34m=\u001b[0m \u001b[0mself\u001b[0m\u001b[0;34m.\u001b[0m\u001b[0mgenomes\u001b[0m\u001b[0;34m[\u001b[0m\u001b[0mgenomeid\u001b[0m\u001b[0;34m]\u001b[0m\u001b[0;34m\u001b[0m\u001b[0m\n\u001b[1;32m    119\u001b[0m                         \u001b[0;32mfor\u001b[0m \u001b[0mgene\u001b[0m \u001b[0;32min\u001b[0m \u001b[0mgenome\u001b[0m\u001b[0;34m.\u001b[0m\u001b[0mget_mutated_loci\u001b[0m\u001b[0;34m(\u001b[0m\u001b[0;34m)\u001b[0m\u001b[0;34m:\u001b[0m\u001b[0;34m\u001b[0m\u001b[0m\n\u001b[0;32m--> 120\u001b[0;31m                                 \u001b[0mrep\u001b[0m\u001b[0;34m[\u001b[0m\u001b[0mgene\u001b[0m\u001b[0;34m]\u001b[0m\u001b[0;34m[\u001b[0m\u001b[0mgenomeid\u001b[0m\u001b[0;34m]\u001b[0m \u001b[0;34m=\u001b[0m \u001b[0;36m1\u001b[0m\u001b[0;34m\u001b[0m\u001b[0m\n\u001b[0m\u001b[1;32m    121\u001b[0m \u001b[0;34m\u001b[0m\u001b[0m\n\u001b[1;32m    122\u001b[0m                 \u001b[0;32mif\u001b[0m \u001b[0mdraw\u001b[0m\u001b[0;34m:\u001b[0m\u001b[0;34m\u001b[0m\u001b[0m\n",
        "\u001b[0;31mIndexError\u001b[0m: index must be either an int or a sequence"
       ]
      },
      {
       "output_type": "stream",
       "stream": "stdout",
       "text": [
        "genomeid: 0\n",
        "genomeid: 1\n"
       ]
      }
     ],
     "prompt_number": 10
    },
    {
     "cell_type": "code",
     "collapsed": false,
     "input": [
      "map(int,''.join(''.join(s.split('(')).split(')'))[0:-1].split(',')"
     ],
     "language": "python",
     "metadata": {},
     "outputs": [
      {
       "ename": "SyntaxError",
       "evalue": "unexpected EOF while parsing (<ipython-input-11-550568734c99>, line 1)",
       "output_type": "pyerr",
       "traceback": [
        "\u001b[0;36m  File \u001b[0;32m\"<ipython-input-11-550568734c99>\"\u001b[0;36m, line \u001b[0;32m1\u001b[0m\n\u001b[0;31m    map(int,''.join(''.join(s.split('(')).split(')'))[0:-1].split(',')\u001b[0m\n\u001b[0m                                                                      ^\u001b[0m\n\u001b[0;31mSyntaxError\u001b[0m\u001b[0;31m:\u001b[0m unexpected EOF while parsing\n"
       ]
      }
     ],
     "prompt_number": 11
    },
    {
     "cell_type": "code",
     "collapsed": false,
     "input": [],
     "language": "python",
     "metadata": {},
     "outputs": []
    }
   ],
   "metadata": {}
  }
 ]
}