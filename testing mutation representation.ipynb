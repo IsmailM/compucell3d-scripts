{
 "metadata": {
  "name": "testing mutation representation"
 },
 "nbformat": 3,
 "nbformat_minor": 0,
 "worksheets": [
  {
   "cells": [
    {
     "cell_type": "code",
     "collapsed": false,
     "input": [
      "import numpy as np\n",
      "import matplotlib.pyplot as plt"
     ],
     "language": "python",
     "metadata": {},
     "outputs": [],
     "prompt_number": 21
    },
    {
     "cell_type": "code",
     "collapsed": false,
     "input": [
      "genomes = [ [1,2,3],[2,3],[3,4],[1,4] ] # a list of genomes \n",
      "size = 5 # size of the genome\n",
      "rep = np.zeros((size,size))"
     ],
     "language": "python",
     "metadata": {},
     "outputs": [],
     "prompt_number": 28
    },
    {
     "cell_type": "code",
     "collapsed": false,
     "input": [
      "for genomeid, genome in enumerate(genomes):\n",
      "    for gene in genome:\n",
      "        print gene, genomeid\n",
      "        rep[gene][genomeid] = 1"
     ],
     "language": "python",
     "metadata": {},
     "outputs": [
      {
       "output_type": "stream",
       "stream": "stdout",
       "text": [
        "1 0\n",
        "2 0\n",
        "3 0\n",
        "2 1\n",
        "3 1\n",
        "3 2\n",
        "4 2\n",
        "1 3\n",
        "4 3\n"
       ]
      }
     ],
     "prompt_number": 29
    },
    {
     "cell_type": "code",
     "collapsed": false,
     "input": [
      "print rep\n",
      "plt.figure()\n",
      "plt.imshow(rep, interpolation='nearest')\n",
      "plt.xlabel('Genome')\n",
      "plt.ylabel('Gene')\n",
      "plt.show()"
     ],
     "language": "python",
     "metadata": {},
     "outputs": [
      {
       "output_type": "stream",
       "stream": "stdout",
       "text": [
        "[[ 0.  0.  0.  0.  0.]\n",
        " [ 1.  0.  0.  1.  0.]\n",
        " [ 1.  1.  0.  0.  0.]\n",
        " [ 1.  1.  1.  0.  0.]\n",
        " [ 0.  0.  1.  1.  0.]]\n"
       ]
      }
     ],
     "prompt_number": 42
    },
    {
     "cell_type": "code",
     "collapsed": false,
     "input": [],
     "language": "python",
     "metadata": {},
     "outputs": []
    }
   ],
   "metadata": {}
  }
 ]
}