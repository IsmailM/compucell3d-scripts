{
 "metadata": {
  "name": "Untitled0"
 },
 "nbformat": 3,
 "nbformat_minor": 0,
 "worksheets": [
  {
   "cells": [
    {
     "cell_type": "code",
     "collapsed": false,
     "input": [
      "from cc3dtools.Genome import Genome\n",
      "import csv"
     ],
     "language": "python",
     "metadata": {},
     "outputs": [],
     "prompt_number": 1
    },
    {
     "cell_type": "code",
     "collapsed": false,
     "input": [
      "genomes = []\n",
      "with open('./datafiles/gen_26.csv', 'r') as f:\n",
      "    reader = csv.reader(f)\n",
      "    for row in reader:\n",
      "        genomes.append(Genome.from_mutated_loci(map(float, row)))"
     ],
     "language": "python",
     "metadata": {},
     "outputs": [],
     "prompt_number": 2
    },
    {
     "cell_type": "code",
     "collapsed": false,
     "input": [
      "genomes[1].mutation_rate = 174\n",
      "for x in range(4):\n",
      "    genomes[1].mutate()"
     ],
     "language": "python",
     "metadata": {},
     "outputs": [],
     "prompt_number": 3
    },
    {
     "cell_type": "code",
     "collapsed": false,
     "input": [
      "genomex = genomes[1].replicate()\n",
      "print len(genomex.get_mutated_loci()), len(genomes[1].get_mutated_loci())"
     ],
     "language": "python",
     "metadata": {},
     "outputs": [
      {
       "output_type": "stream",
       "stream": "stdout",
       "text": [
        " 132 132\n"
       ]
      }
     ],
     "prompt_number": 15
    },
    {
     "cell_type": "code",
     "collapsed": false,
     "input": [
      "from cc3dtools.GenomeCompare import GenomeCompare\n",
      "gcmp = GenomeCompare(genomes=[genomes[1], genomex])"
     ],
     "language": "python",
     "metadata": {},
     "outputs": [],
     "prompt_number": 9
    },
    {
     "cell_type": "code",
     "collapsed": false,
     "input": [
      "for x in range(50):\n",
      "    genomes[1].mutate()\n",
      "\n",
      "gcmp = GenomeCompare(genomes=[genomes[1], genomex])\n",
      "gcmp.diff(0,1)"
     ],
     "language": "python",
     "metadata": {},
     "outputs": [
      {
       "output_type": "pyout",
       "prompt_number": 38,
       "text": [
        "{'loci_different': [#2.23, #5.42, #9.06, #1.04, #6.56, #5.53, #1.01, #8.72],\n",
        " 'total_unique_mutations': 8,\n",
        " 'unique_to_1': [#2.23, #5.42, #9.06],\n",
        " 'unique_to_2': [#1.04, #6.56, #5.53, #1.01, #8.72]}"
       ]
      }
     ],
     "prompt_number": 38
    },
    {
     "cell_type": "code",
     "collapsed": false,
     "input": [
      "sorted(genomes[1].get_mutated_loci())"
     ],
     "language": "python",
     "metadata": {},
     "outputs": [
      {
       "output_type": "pyout",
       "prompt_number": 40,
       "text": [
        "[#0.0,\n",
        " #0.01,\n",
        " #0.02,\n",
        " #0.03,\n",
        " #0.04,\n",
        " #0.05,\n",
        " #0.06,\n",
        " #0.07,\n",
        " #0.08,\n",
        " #0.09,\n",
        " #0.1,\n",
        " #0.11,\n",
        " #0.12,\n",
        " #0.13,\n",
        " #0.14,\n",
        " #0.15,\n",
        " #0.16,\n",
        " #0.17,\n",
        " #0.18,\n",
        " #0.19,\n",
        " #0.2,\n",
        " #0.21,\n",
        " #0.22,\n",
        " #0.23,\n",
        " #0.24,\n",
        " #0.25,\n",
        " #0.26,\n",
        " #0.27,\n",
        " #0.28,\n",
        " #0.29,\n",
        " #0.3,\n",
        " #0.31,\n",
        " #0.32,\n",
        " #0.33,\n",
        " #0.34,\n",
        " #0.35,\n",
        " #0.36,\n",
        " #0.37,\n",
        " #0.38,\n",
        " #0.39,\n",
        " #0.4,\n",
        " #0.41,\n",
        " #0.42,\n",
        " #0.43,\n",
        " #0.44,\n",
        " #0.45,\n",
        " #0.46,\n",
        " #0.47,\n",
        " #0.48,\n",
        " #0.49,\n",
        " #0.5,\n",
        " #0.51,\n",
        " #0.52,\n",
        " #0.53,\n",
        " #0.54,\n",
        " #0.55,\n",
        " #0.56,\n",
        " #0.57,\n",
        " #0.58,\n",
        " #0.59,\n",
        " #0.6,\n",
        " #0.61,\n",
        " #0.62,\n",
        " #0.63,\n",
        " #0.64,\n",
        " #0.65,\n",
        " #0.66,\n",
        " #0.67,\n",
        " #0.68,\n",
        " #0.69,\n",
        " #0.7,\n",
        " #0.71,\n",
        " #0.72,\n",
        " #0.73,\n",
        " #0.74,\n",
        " #0.75,\n",
        " #0.76,\n",
        " #0.77,\n",
        " #0.78,\n",
        " #0.79,\n",
        " #0.8,\n",
        " #0.81,\n",
        " #0.82,\n",
        " #0.83,\n",
        " #0.84,\n",
        " #0.85,\n",
        " #0.86,\n",
        " #0.87,\n",
        " #0.88,\n",
        " #0.89,\n",
        " #0.9,\n",
        " #0.91,\n",
        " #0.92,\n",
        " #0.93,\n",
        " #0.94,\n",
        " #0.95,\n",
        " #0.96,\n",
        " #0.97,\n",
        " #0.98,\n",
        " #0.99,\n",
        " #2.23,\n",
        " #5.42,\n",
        " #9.06,\n",
        " #43.0,\n",
        " #53.0,\n",
        " #65.0,\n",
        " #67.0,\n",
        " #115.0,\n",
        " #218.0,\n",
        " #225.0,\n",
        " #228.0,\n",
        " #337.0,\n",
        " #394.0,\n",
        " #428.0,\n",
        " #461.0,\n",
        " #494.0,\n",
        " #531.0,\n",
        " #561.0,\n",
        " #584.0,\n",
        " #590.0,\n",
        " #600.0,\n",
        " #618.0,\n",
        " #678.0,\n",
        " #740.0,\n",
        " #765.0,\n",
        " #783.0,\n",
        " #787.0,\n",
        " #838.0,\n",
        " #841.0,\n",
        " #899.0,\n",
        " #916.0,\n",
        " #949.0,\n",
        " #970.0,\n",
        " #979.0,\n",
        " #985.0]"
       ]
      }
     ],
     "prompt_number": 40
    },
    {
     "cell_type": "code",
     "collapsed": false,
     "input": [],
     "language": "python",
     "metadata": {},
     "outputs": []
    }
   ],
   "metadata": {}
  }
 ]
}